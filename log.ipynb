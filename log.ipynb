{
 "cells": [
  {
   "cell_type": "code",
   "execution_count": null,
   "metadata": {},
   "outputs": [],
   "source": [
    "import pandas as pd # it's about to RAM\n",
    "import numpy as np\n",
    "import matplotlib.pyplot as plt\n",
    "\n",
    "n_nodes=1000\n",
    "n_turns=80\n",
    "size_view=0.1\n",
    "size_subset=0.05"
   ]
  },
  {
   "cell_type": "markdown",
   "metadata": {},
   "source": [
    "Load"
   ]
  },
  {
   "cell_type": "code",
   "execution_count": null,
   "metadata": {},
   "outputs": [],
   "source": [
    "df = pd.read_csv(f'log_{n_nodes}_{int(size_view*100)}.csv')\n",
    "df.head()"
   ]
  },
  {
   "cell_type": "markdown",
   "metadata": {},
   "source": [
    "Plot it"
   ]
  },
  {
   "cell_type": "code",
   "execution_count": null,
   "metadata": {},
   "outputs": [],
   "source": [
    "discovery_rates = {}\n",
    "discovered_sets = [set() for i in range(n_nodes+1)]\n",
    "for turn in range(n_turns+1):\n",
    "    turn_df = df[df['Turn']==turn]\n",
    "    discovery_rates[turn]=[]    \n",
    "    for i in range(1,n_nodes+1):\n",
    "        discovered = discovered_sets[i]\n",
    "        node_df = turn_df[turn_df['Id']==i]\n",
    "        [discovered.add(_ ) for _ in node_df['Node']]\n",
    "        discovery_rates[turn].append(len(discovered)/n_nodes)"
   ]
  },
  {
   "cell_type": "code",
   "execution_count": null,
   "metadata": {},
   "outputs": [],
   "source": [
    "turns = [_ for _ in range(n_turns+1)]\n",
    "discovery_rates = [np.mean(discovery_rates[_]) for _ in turns]\n",
    "#for turn in range(60):\n",
    "#    print(np.mean(discovery_rates[turn]))\n",
    "plt.plot(turns, discovery_rates)\n",
    "  \n",
    "# Adding the title\n",
    "plt.title(f\"Average discovery rate by turn (View : {size_view}, Subset : {size_subset}, Nodes : {n_nodes})\")\n",
    "  \n",
    "# Adding the labels\n",
    "plt.ylabel(\"Average discovery rate\")\n",
    "plt.xlabel(\"Turn\")\n",
    "plt.show()"
   ]
  },
  {
   "cell_type": "code",
   "execution_count": null,
   "metadata": {},
   "outputs": [],
   "source": [
    "node_df.info()"
   ]
  },
  {
   "cell_type": "code",
   "execution_count": null,
   "metadata": {},
   "outputs": [],
   "source": [
    "node_df = df[df['Id']==1]\n",
    "turn_df = node_df[node_df['Turn']==0]"
   ]
  },
  {
   "cell_type": "code",
   "execution_count": null,
   "metadata": {},
   "outputs": [],
   "source": [
    "#s = set()\n",
    "[s.add(_ ) for _ in turn_df['Node']]\n",
    "s"
   ]
  }
 ],
 "metadata": {
  "kernelspec": {
   "display_name": "env39",
   "language": "python",
   "name": "env39"
  },
  "language_info": {
   "codemirror_mode": {
    "name": "ipython",
    "version": 3
   },
   "file_extension": ".py",
   "mimetype": "text/x-python",
   "name": "python",
   "nbconvert_exporter": "python",
   "pygments_lexer": "ipython3",
   "version": "3.9.6"
  },
  "orig_nbformat": 4,
  "vscode": {
   "interpreter": {
    "hash": "397704579725e15f5c7cb49fe5f0341eb7531c82d19f2c29d197e8b64ab5776b"
   }
  }
 },
 "nbformat": 4,
 "nbformat_minor": 2
}
